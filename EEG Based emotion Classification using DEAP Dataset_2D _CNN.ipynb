{
  "nbformat": 4,
  "nbformat_minor": 0,
  "metadata": {
    "colab": {
      "name": "Copy of Major Project  CNN 80-20.ipynb",
      "provenance": []
    },
    "kernelspec": {
      "name": "python3",
      "display_name": "Python 3"
    },
    "accelerator": "GPU"
  },
  "cells": [
    {
      "cell_type": "code",
      "metadata": {
        "id": "4ZgJPO-bvo4B",
        "colab": {
          "base_uri": "https://localhost:8080/"
        },
        "outputId": "4aa59ffe-bf1b-4e43-8b59-4e30aa0b15ad"
      },
      "source": [
        "!pip install git+https://github.com/forrestbao/pyeeg.git\n",
        "import numpy as np\n",
        "import pyeeg as pe\n",
        "import pickle as pickle\n",
        "import pandas as pd\n",
        "import math\n",
        "\n",
        "from sklearn import svm\n",
        "from sklearn.preprocessing import normalize\n",
        "\n",
        "import os\n",
        "import time"
      ],
      "execution_count": null,
      "outputs": [
        {
          "output_type": "stream",
          "name": "stdout",
          "text": [
            "Collecting git+https://github.com/forrestbao/pyeeg.git\n",
            "  Cloning https://github.com/forrestbao/pyeeg.git to /tmp/pip-req-build-wfw0gfvf\n",
            "  Running command git clone -q https://github.com/forrestbao/pyeeg.git /tmp/pip-req-build-wfw0gfvf\n",
            "Requirement already satisfied: numpy>=1.9.2 in /usr/local/lib/python3.7/dist-packages (from pyeeg==0.4.4) (1.21.5)\n",
            "Building wheels for collected packages: pyeeg\n",
            "  Building wheel for pyeeg (setup.py) ... \u001b[?25l\u001b[?25hdone\n",
            "  Created wheel for pyeeg: filename=pyeeg-0.4.4-py2.py3-none-any.whl size=28131 sha256=0c7b2f51a97b84dacf993afe51a102be32f39fcf1829f312dc2dbe51a42751a2\n",
            "  Stored in directory: /tmp/pip-ephem-wheel-cache-o2_wmv35/wheels/b0/23/e4/703c908bda656959957029fa145879aa79307b2545a2ef0271\n",
            "Successfully built pyeeg\n",
            "Installing collected packages: pyeeg\n",
            "Successfully installed pyeeg-0.4.4\n"
          ]
        }
      ]
    },
    {
      "cell_type": "code",
      "metadata": {
        "id": "A6V-0VlCv8F3"
      },
      "source": [
        "import pandas as pd\n",
        "import keras.backend as K\n",
        "import numpy as np\n",
        "import pandas as pd\n",
        "from keras.models import Sequential\n",
        "from keras.layers import Dense\n",
        "from keras.models import Sequential\n",
        "from keras.layers.convolutional import Conv1D\n",
        "from keras.layers.convolutional import MaxPooling1D\n",
        "from tensorflow.keras.utils import to_categorical \n",
        "from keras.layers import Flatten\n",
        "from keras.layers import Dense\n",
        "import numpy as np\n",
        "import keras\n",
        "from keras.datasets import mnist\n",
        "from keras.models import Sequential\n",
        "from keras.layers import Dense, Dropout, Flatten, Conv2D, MaxPooling2D\n",
        "from keras import backend as K\n",
        "from keras.models import Model\n",
        "import timeit\n",
        "from keras.models import Sequential\n",
        "from keras.layers.core import Flatten, Dense, Dropout\n",
        "from keras.layers.convolutional import Convolution1D, MaxPooling1D, ZeroPadding1D\n",
        "from tensorflow.keras.optimizers import SGD\n",
        "#import cv2, numpy as np\n",
        "import warnings\n",
        "warnings.filterwarnings('ignore')"
      ],
      "execution_count": null,
      "outputs": []
    },
    {
      "cell_type": "code",
      "metadata": {
        "id": "bWlMgzPBwGwF",
        "colab": {
          "base_uri": "https://localhost:8080/"
        },
        "outputId": "2331994f-9c45-4a03-aaac-e2634d004089"
      },
      "source": [
        "from google.colab import drive\n",
        "drive.mount('/content/drive/')"
      ],
      "execution_count": null,
      "outputs": [
        {
          "output_type": "stream",
          "name": "stdout",
          "text": [
            "Mounted at /content/drive/\n"
          ]
        }
      ]
    },
    {
      "cell_type": "code",
      "metadata": {
        "id": "JOXuEM0JwJqI"
      },
      "source": [
        "# data_preprocessed_python\n",
        "os.getcwd()\n",
        "os.chdir('/content/drive/My Drive')"
      ],
      "execution_count": null,
      "outputs": []
    },
    {
      "cell_type": "code",
      "metadata": {
        "id": "kCMT74t9wowG"
      },
      "source": [
        "channel = [1,2,3,4,6,11,13,17,19,20,21,25,29,31] #14 Channels chosen to fit Emotiv Epoch+\n",
        "band = [4,8,12,16,25,45] #5 bands\n",
        "window_size = 256 #Averaging band power of 2 sec\n",
        "step_size = 16 #Each 0.125 sec update once\n",
        "sample_rate = 128 #Sampling rate of 128 Hz\n",
        "subjectList = ['01','02','03']\n",
        "#List of subjects"
      ],
      "execution_count": null,
      "outputs": []
    },
    {
      "cell_type": "code",
      "metadata": {
        "id": "UD-WVHARwsXz"
      },
      "source": [
        "def FFT_Processing (sub, channel, band, window_size, step_size, sample_rate):\n",
        "    '''\n",
        "    arguments:  string subject\n",
        "                list channel indice\n",
        "                list band\n",
        "                int window size for FFT\n",
        "                int step size for FFT\n",
        "                int sample rate for FFT\n",
        "    return:     void\n",
        "    '''\n",
        "    meta = []\n",
        "    with open(\"/content/drive/My Drive/leading_ai/try/s\" + sub + '.dat', 'rb') as file:\n",
        "\n",
        "        subject = pickle.load(file, encoding='latin1') #resolve the python 2 data problem by encoding : latin1\n",
        "\n",
        "        for i in range (0,40):\n",
        "            # loop over 0-39 trails\n",
        "            data = subject[\"data\"][i]\n",
        "            labels = subject[\"labels\"][i]\n",
        "            start = 0;\n",
        "\n",
        "            while start + window_size < data.shape[1]:\n",
        "                meta_array = []\n",
        "                meta_data = [] #meta vector for analysis\n",
        "                for j in channel:\n",
        "                    X = data[j][start : start + window_size] #Slice raw data over 2 sec, at interval of 0.125 sec\n",
        "                    Y = pe.bin_power(X, band, sample_rate) #FFT over 2 sec of channel j, in seq of theta, alpha, low beta, high beta, gamma\n",
        "                    meta_data = meta_data + list(Y[0])\n",
        "\n",
        "                meta_array.append(np.array(meta_data))\n",
        "                meta_array.append(labels)\n",
        "\n",
        "                meta.append(np.array(meta_array))    \n",
        "                start = start + step_size\n",
        "                \n",
        "        meta = np.array(meta)\n",
        "        np.save('/content/drive/My Drive/leading_ai/try/s' + sub, meta, allow_pickle=True, fix_imports=True)"
      ],
      "execution_count": null,
      "outputs": []
    },
    {
      "cell_type": "code",
      "metadata": {
        "id": "TWcHt5X2xDfw"
      },
      "source": [
        "for subjects in subjectList:\n",
        "    FFT_Processing (subjects, channel, band, window_size, step_size, sample_rate)"
      ],
      "execution_count": null,
      "outputs": []
    },
    {
      "cell_type": "code",
      "metadata": {
        "id": "dM2Bdu7oxIbE",
        "colab": {
          "base_uri": "https://localhost:8080/"
        },
        "outputId": "6b407b06-ad2c-42fa-b962-f31f8d322fb5"
      },
      "source": [
        "\n",
        "data_training = []\n",
        "label_training = []\n",
        "data_testing = []\n",
        "label_testing = []\n",
        "\n",
        "for subjects in subjectList:\n",
        "\n",
        "    with open('/content/drive/My Drive/leading_ai/try/s' + subjects + '.npy', 'rb') as file:\n",
        "      sub = np.load(file,allow_pickle=True)\n",
        "      for i in range (0,sub.shape[0]):\n",
        "        if i % 5 == 0:\n",
        "          data_testing.append(sub[i][0])\n",
        "          label_testing.append(sub[i][1])\n",
        "        else:\n",
        "          data_training.append(sub[i][0])\n",
        "          label_training.append(sub[i][1])\n",
        "\n",
        "np.save('/content/drive/My Drive/leading_ai/data_training', np.array(data_training), allow_pickle=True, fix_imports=True)\n",
        "np.save('/content/drive/My Drive/leading_ai/label_training', np.array(label_training), allow_pickle=True, fix_imports=True)\n",
        "print(\"training dataset:\", np.array(data_training).shape, np.array(label_training).shape)\n",
        "\n",
        "np.save('/content/drive/My Drive/leading_ai/data_testing', np.array(data_testing), allow_pickle=True, fix_imports=True)\n",
        "np.save('/content/drive/My Drive/leading_ai/label_testing', np.array(label_testing), allow_pickle=True, fix_imports=True)\n",
        "print(\"testing dataset:\", np.array(data_testing).shape, np.array(label_testing).shape)"
      ],
      "execution_count": null,
      "outputs": [
        {
          "output_type": "stream",
          "name": "stdout",
          "text": [
            "training dataset: (46848, 70) (46848, 4)\n",
            "testing dataset: (11712, 70) (11712, 4)\n"
          ]
        }
      ]
    },
    {
      "cell_type": "code",
      "metadata": {
        "id": "pnNNgiBN_HcS"
      },
      "source": [
        "\n",
        "with open('/content/drive/My Drive/leading_ai/data_training.npy', 'rb') as fileTrain:\n",
        "    X  = np.load(fileTrain)\n",
        "    \n",
        "with open('/content/drive/My Drive/leading_ai/label_training.npy', 'rb') as fileTrainL:\n",
        "    Y  = np.load(fileTrainL)\n",
        "    \n",
        "X = normalize(X)\n",
        "Z = np.ravel(Y[:, [3]])\n",
        "\n",
        "Arousal_Train = np.ravel(Y[:, [0]])\n",
        "Valence_Train = np.ravel(Y[:, [1]])\n",
        "Domain_Train = np.ravel(Y[:, [2]])\n",
        "Like_Train = np.ravel(Y[:, [3]])"
      ],
      "execution_count": null,
      "outputs": []
    },
    {
      "cell_type": "code",
      "metadata": {
        "id": "O-kXkIKo_3eY",
        "colab": {
          "base_uri": "https://localhost:8080/"
        },
        "outputId": "25a3275f-889c-4f64-81b5-95a6af461f8f"
      },
      "source": [
        "X.shape"
      ],
      "execution_count": null,
      "outputs": [
        {
          "output_type": "execute_result",
          "data": {
            "text/plain": [
              "(46848, 70)"
            ]
          },
          "metadata": {},
          "execution_count": 11
        }
      ]
    },
    {
      "cell_type": "code",
      "metadata": {
        "id": "u7QbIvJF_7YH",
        "colab": {
          "base_uri": "https://localhost:8080/"
        },
        "outputId": "4226cafa-a49f-4745-8da9-5ad57b4ac864"
      },
      "source": [
        "from tensorflow.keras.utils import to_categorical\n",
        "y_train = to_categorical(Z)\n",
        "y_train"
      ],
      "execution_count": null,
      "outputs": [
        {
          "output_type": "execute_result",
          "data": {
            "text/plain": [
              "array([[0., 0., 0., ..., 1., 0., 0.],\n",
              "       [0., 0., 0., ..., 1., 0., 0.],\n",
              "       [0., 0., 0., ..., 1., 0., 0.],\n",
              "       ...,\n",
              "       [0., 0., 0., ..., 0., 0., 0.],\n",
              "       [0., 0., 0., ..., 0., 0., 0.],\n",
              "       [0., 0., 0., ..., 0., 0., 0.]], dtype=float32)"
            ]
          },
          "metadata": {},
          "execution_count": 13
        }
      ]
    },
    {
      "cell_type": "code",
      "metadata": {
        "id": "vz6DyN6i4Ten",
        "colab": {
          "base_uri": "https://localhost:8080/"
        },
        "outputId": "775d1f28-22c2-4ad4-e04a-d77cffe6e7c5"
      },
      "source": [
        "y_train.shape"
      ],
      "execution_count": null,
      "outputs": [
        {
          "output_type": "execute_result",
          "data": {
            "text/plain": [
              "(46848, 10)"
            ]
          },
          "metadata": {},
          "execution_count": 14
        }
      ]
    },
    {
      "cell_type": "code",
      "metadata": {
        "id": "n2nbzExFABT9"
      },
      "source": [
        "x_train = np.array(X[:])"
      ],
      "execution_count": null,
      "outputs": []
    },
    {
      "cell_type": "code",
      "metadata": {
        "id": "ooCmmlGRAFkv"
      },
      "source": [
        "\n",
        "with open('/content/drive/My Drive/leading_ai/data_testing.npy', 'rb') as fileTrain:\n",
        "    M  = np.load(fileTrain)\n",
        "    \n",
        "with open('/content/drive/My Drive/leading_ai/label_testing.npy', 'rb') as fileTrainL:\n",
        "    N  = np.load(fileTrainL)\n",
        "\n",
        "M = normalize(M)\n",
        "L = np.ravel(N[:, [3]])\n",
        "\n",
        "Arousal_Test = np.ravel(N[:, [0]])\n",
        "Valence_Test = np.ravel(N[:, [1]])\n",
        "Domain_Test = np.ravel(N[:, [2]])\n",
        "Like_Test = np.ravel(N[:, [3]])"
      ],
      "execution_count": null,
      "outputs": []
    },
    {
      "cell_type": "code",
      "metadata": {
        "id": "m4sxtvpQAOhK"
      },
      "source": [
        "x_test = np.array(M[:])"
      ],
      "execution_count": null,
      "outputs": []
    },
    {
      "cell_type": "code",
      "metadata": {
        "id": "r2RKm9KgASb4",
        "colab": {
          "base_uri": "https://localhost:8080/"
        },
        "outputId": "44ae7cb4-18dc-47e7-b1e7-7b01275bfc4a"
      },
      "source": [
        "from tensorflow.keras.utils import to_categorical\n",
        "y_test = to_categorical(L)\n",
        "y_test"
      ],
      "execution_count": null,
      "outputs": [
        {
          "output_type": "execute_result",
          "data": {
            "text/plain": [
              "array([[0., 0., 0., ..., 1., 0., 0.],\n",
              "       [0., 0., 0., ..., 1., 0., 0.],\n",
              "       [0., 0., 0., ..., 1., 0., 0.],\n",
              "       ...,\n",
              "       [0., 0., 0., ..., 0., 0., 0.],\n",
              "       [0., 0., 0., ..., 0., 0., 0.],\n",
              "       [0., 0., 0., ..., 0., 0., 0.]], dtype=float32)"
            ]
          },
          "metadata": {},
          "execution_count": 19
        }
      ]
    },
    {
      "cell_type": "code",
      "metadata": {
        "id": "UmwAfzADsRe1",
        "colab": {
          "base_uri": "https://localhost:8080/"
        },
        "outputId": "93ca159c-a4f3-4ff3-ce47-480f498f75dd"
      },
      "source": [
        "y_test[1]"
      ],
      "execution_count": null,
      "outputs": [
        {
          "output_type": "execute_result",
          "data": {
            "text/plain": [
              "array([0., 0., 0., 0., 0., 0., 0., 1., 0., 0.], dtype=float32)"
            ]
          },
          "metadata": {},
          "execution_count": 20
        }
      ]
    },
    {
      "cell_type": "code",
      "metadata": {
        "id": "rKnp-c5EAVGJ"
      },
      "source": [
        "from sklearn.preprocessing import StandardScaler\n",
        "scaler = StandardScaler()\n",
        "x_train = scaler.fit_transform(x_train)\n",
        "x_test = scaler.fit_transform(x_test)"
      ],
      "execution_count": null,
      "outputs": []
    },
    {
      "cell_type": "code",
      "metadata": {
        "id": "WC6VSZLUBCiS"
      },
      "source": [
        "x_train = x_train.reshape(x_train.shape[0],x_train.shape[1], 1)\n",
        "x_test = x_test.reshape(x_test.shape[0],x_test.shape[1], 1)"
      ],
      "execution_count": null,
      "outputs": []
    },
    {
      "cell_type": "code",
      "metadata": {
        "id": "F3CYMY96BE0i",
        "colab": {
          "base_uri": "https://localhost:8080/"
        },
        "outputId": "859bd955-c5e2-4c47-b857-aaee1e41e771"
      },
      "source": [
        "x_train.shape"
      ],
      "execution_count": null,
      "outputs": [
        {
          "output_type": "execute_result",
          "data": {
            "text/plain": [
              "(46848, 70, 1)"
            ]
          },
          "metadata": {},
          "execution_count": 23
        }
      ]
    },
    {
      "cell_type": "code",
      "metadata": {
        "id": "V8NOrABgBWzf"
      },
      "source": [
        "batch_size = 256\n",
        "num_classes = 10\n",
        "epochs = 200\n",
        "input_shape=(x_train.shape[1], 1)"
      ],
      "execution_count": null,
      "outputs": []
    },
    {
      "cell_type": "code",
      "metadata": {
        "id": "_W9u_IH6BaaS",
        "colab": {
          "base_uri": "https://localhost:8080/"
        },
        "outputId": "f814a098-40c5-4f28-822a-e8b546c77cc3"
      },
      "source": [
        "print(input_shape)"
      ],
      "execution_count": null,
      "outputs": [
        {
          "output_type": "stream",
          "name": "stdout",
          "text": [
            "(70, 1)\n"
          ]
        }
      ]
    },
    {
      "cell_type": "code",
      "metadata": {
        "id": "FrpmQ4QWBc4_"
      },
      "source": [
        "from keras.layers import Convolution1D, ZeroPadding1D, MaxPooling1D, BatchNormalization, Activation, Dropout, Flatten, Dense\n",
        "from keras.regularizers import l2"
      ],
      "execution_count": null,
      "outputs": []
    },
    {
      "cell_type": "code",
      "metadata": {
        "id": "2B1ezppYCOhJ",
        "colab": {
          "base_uri": "https://localhost:8080/"
        },
        "outputId": "b96abd32-d41c-45b0-9196-7664bb47bd44"
      },
      "source": [
        "model = Sequential()\n",
        "intput_shape=(x_train.shape[1], 1)\n",
        "model.add(Conv1D(164, kernel_size=3,padding = 'same',activation='relu', input_shape=input_shape))\n",
        "model.add(BatchNormalization())\n",
        "model.add(MaxPooling1D(pool_size=(2)))\n",
        "model.add(Conv1D(164,kernel_size=3,padding = 'same', activation='relu'))\n",
        "model.add(BatchNormalization())\n",
        "model.add(MaxPooling1D(pool_size=(2)))\n",
        "model.add(Conv1D(82,kernel_size=3,padding = 'same', activation='relu'))\n",
        "model.add(MaxPooling1D(pool_size=(2)))\n",
        "model.add(Flatten())\n",
        "model.add(Dense(82, activation='tanh'))\n",
        "model.add(Dropout(0.2))\n",
        "model.add(Dense(42, activation='tanh'))\n",
        "model.add(Dropout(0.2))\n",
        "model.add(Dense(21, activation='relu'))\n",
        "model.add(Dropout(0.2))\n",
        "model.add(Dense(num_classes, activation='softmax'))\n",
        "model.summary()"
      ],
      "execution_count": null,
      "outputs": [
        {
          "output_type": "stream",
          "name": "stdout",
          "text": [
            "Model: \"sequential\"\n",
            "_________________________________________________________________\n",
            " Layer (type)                Output Shape              Param #   \n",
            "=================================================================\n",
            " conv1d (Conv1D)             (None, 70, 164)           656       \n",
            "                                                                 \n",
            " batch_normalization (BatchN  (None, 70, 164)          656       \n",
            " ormalization)                                                   \n",
            "                                                                 \n",
            " max_pooling1d (MaxPooling1D  (None, 35, 164)          0         \n",
            " )                                                               \n",
            "                                                                 \n",
            " conv1d_1 (Conv1D)           (None, 35, 164)           80852     \n",
            "                                                                 \n",
            " batch_normalization_1 (Batc  (None, 35, 164)          656       \n",
            " hNormalization)                                                 \n",
            "                                                                 \n",
            " max_pooling1d_1 (MaxPooling  (None, 17, 164)          0         \n",
            " 1D)                                                             \n",
            "                                                                 \n",
            " conv1d_2 (Conv1D)           (None, 17, 82)            40426     \n",
            "                                                                 \n",
            " max_pooling1d_2 (MaxPooling  (None, 8, 82)            0         \n",
            " 1D)                                                             \n",
            "                                                                 \n",
            " flatten (Flatten)           (None, 656)               0         \n",
            "                                                                 \n",
            " dense (Dense)               (None, 82)                53874     \n",
            "                                                                 \n",
            " dropout (Dropout)           (None, 82)                0         \n",
            "                                                                 \n",
            " dense_1 (Dense)             (None, 42)                3486      \n",
            "                                                                 \n",
            " dropout_1 (Dropout)         (None, 42)                0         \n",
            "                                                                 \n",
            " dense_2 (Dense)             (None, 21)                903       \n",
            "                                                                 \n",
            " dropout_2 (Dropout)         (None, 21)                0         \n",
            "                                                                 \n",
            " dense_3 (Dense)             (None, 10)                220       \n",
            "                                                                 \n",
            "=================================================================\n",
            "Total params: 181,729\n",
            "Trainable params: 181,073\n",
            "Non-trainable params: 656\n",
            "_________________________________________________________________\n"
          ]
        }
      ]
    },
    {
      "cell_type": "code",
      "metadata": {
        "id": "A7abBpBSCY-o"
      },
      "source": [
        "model.compile(loss=keras.losses.categorical_crossentropy,\n",
        "              optimizer='adam',\n",
        "              metrics=['accuracy'])"
      ],
      "execution_count": null,
      "outputs": []
    },
    {
      "cell_type": "code",
      "metadata": {
        "id": "vaZ4RPIqCfYF",
        "colab": {
          "base_uri": "https://localhost:8080/"
        },
        "outputId": "746500d7-c69c-4a95-cb8c-f776d565be8a"
      },
      "source": [
        "history=model.fit(x_train, y_train,\n",
        "          batch_size=batch_size,\n",
        "          epochs=epochs,  \n",
        "          verbose=1,validation_data=(x_test,y_test))"
      ],
      "execution_count": null,
      "outputs": [
        {
          "output_type": "stream",
          "name": "stdout",
          "text": [
            "Epoch 1/200\n",
            "183/183 [==============================] - 18s 35ms/step - loss: 1.7317 - accuracy: 0.3064 - val_loss: 1.7938 - val_accuracy: 0.3157\n",
            "Epoch 2/200\n",
            "183/183 [==============================] - 6s 31ms/step - loss: 1.4986 - accuracy: 0.3897 - val_loss: 1.4322 - val_accuracy: 0.4134\n",
            "Epoch 3/200\n",
            "183/183 [==============================] - 6s 32ms/step - loss: 1.3705 - accuracy: 0.4454 - val_loss: 1.2404 - val_accuracy: 0.5028\n",
            "Epoch 4/200\n",
            "183/183 [==============================] - 6s 31ms/step - loss: 1.2689 - accuracy: 0.4913 - val_loss: 1.1129 - val_accuracy: 0.5547\n",
            "Epoch 5/200\n",
            "183/183 [==============================] - 6s 30ms/step - loss: 1.1691 - accuracy: 0.5330 - val_loss: 1.0066 - val_accuracy: 0.6010\n",
            "Epoch 6/200\n",
            "183/183 [==============================] - 6s 30ms/step - loss: 1.0687 - accuracy: 0.5768 - val_loss: 0.9247 - val_accuracy: 0.6356\n",
            "Epoch 7/200\n",
            "183/183 [==============================] - 6s 32ms/step - loss: 0.9889 - accuracy: 0.6129 - val_loss: 0.8616 - val_accuracy: 0.6574\n",
            "Epoch 8/200\n",
            "183/183 [==============================] - 6s 30ms/step - loss: 0.9104 - accuracy: 0.6420 - val_loss: 0.7839 - val_accuracy: 0.6912\n",
            "Epoch 9/200\n",
            "183/183 [==============================] - 6s 33ms/step - loss: 0.8559 - accuracy: 0.6636 - val_loss: 0.7497 - val_accuracy: 0.7025\n",
            "Epoch 10/200\n",
            "183/183 [==============================] - 6s 31ms/step - loss: 0.8058 - accuracy: 0.6852 - val_loss: 0.7147 - val_accuracy: 0.7155\n",
            "Epoch 11/200\n",
            "183/183 [==============================] - 5s 30ms/step - loss: 0.7585 - accuracy: 0.7031 - val_loss: 0.7228 - val_accuracy: 0.7152\n",
            "Epoch 12/200\n",
            "183/183 [==============================] - 6s 31ms/step - loss: 0.7233 - accuracy: 0.7174 - val_loss: 0.6622 - val_accuracy: 0.7374\n",
            "Epoch 13/200\n",
            "183/183 [==============================] - 5s 30ms/step - loss: 0.6949 - accuracy: 0.7288 - val_loss: 0.6302 - val_accuracy: 0.7499\n",
            "Epoch 14/200\n",
            "183/183 [==============================] - 6s 33ms/step - loss: 0.6678 - accuracy: 0.7387 - val_loss: 0.6426 - val_accuracy: 0.7523\n",
            "Epoch 15/200\n",
            "183/183 [==============================] - 5s 30ms/step - loss: 0.6362 - accuracy: 0.7492 - val_loss: 0.6038 - val_accuracy: 0.7639\n",
            "Epoch 16/200\n",
            "183/183 [==============================] - 6s 32ms/step - loss: 0.6177 - accuracy: 0.7580 - val_loss: 0.6004 - val_accuracy: 0.7689\n",
            "Epoch 17/200\n",
            "183/183 [==============================] - 6s 30ms/step - loss: 0.6031 - accuracy: 0.7658 - val_loss: 0.5620 - val_accuracy: 0.7766\n",
            "Epoch 18/200\n",
            "183/183 [==============================] - 6s 33ms/step - loss: 0.5783 - accuracy: 0.7745 - val_loss: 0.5695 - val_accuracy: 0.7808\n",
            "Epoch 19/200\n",
            "183/183 [==============================] - 6s 32ms/step - loss: 0.5548 - accuracy: 0.7824 - val_loss: 0.5471 - val_accuracy: 0.7893\n",
            "Epoch 20/200\n",
            "183/183 [==============================] - 6s 32ms/step - loss: 0.5465 - accuracy: 0.7871 - val_loss: 0.5709 - val_accuracy: 0.7818\n",
            "Epoch 21/200\n",
            "183/183 [==============================] - 6s 30ms/step - loss: 0.5397 - accuracy: 0.7903 - val_loss: 0.5255 - val_accuracy: 0.7970\n",
            "Epoch 22/200\n",
            "183/183 [==============================] - 6s 32ms/step - loss: 0.5127 - accuracy: 0.7994 - val_loss: 0.5661 - val_accuracy: 0.7894\n",
            "Epoch 23/200\n",
            "183/183 [==============================] - 5s 30ms/step - loss: 0.5130 - accuracy: 0.8001 - val_loss: 0.5217 - val_accuracy: 0.7992\n",
            "Epoch 24/200\n",
            "183/183 [==============================] - 6s 31ms/step - loss: 0.4948 - accuracy: 0.8060 - val_loss: 0.5218 - val_accuracy: 0.8039\n",
            "Epoch 25/200\n",
            "183/183 [==============================] - 6s 30ms/step - loss: 0.4863 - accuracy: 0.8109 - val_loss: 0.5105 - val_accuracy: 0.8065\n",
            "Epoch 26/200\n",
            "183/183 [==============================] - 6s 31ms/step - loss: 0.4809 - accuracy: 0.8140 - val_loss: 0.5338 - val_accuracy: 0.8024\n",
            "Epoch 27/200\n",
            "183/183 [==============================] - 6s 32ms/step - loss: 0.4635 - accuracy: 0.8199 - val_loss: 0.5115 - val_accuracy: 0.8058\n",
            "Epoch 28/200\n",
            "183/183 [==============================] - 6s 32ms/step - loss: 0.4647 - accuracy: 0.8197 - val_loss: 0.4848 - val_accuracy: 0.8166\n",
            "Epoch 29/200\n",
            "183/183 [==============================] - 5s 30ms/step - loss: 0.4514 - accuracy: 0.8266 - val_loss: 0.5086 - val_accuracy: 0.8104\n",
            "Epoch 30/200\n",
            "183/183 [==============================] - 5s 30ms/step - loss: 0.4454 - accuracy: 0.8275 - val_loss: 0.5016 - val_accuracy: 0.8175\n",
            "Epoch 31/200\n",
            "183/183 [==============================] - 6s 31ms/step - loss: 0.4281 - accuracy: 0.8366 - val_loss: 0.4657 - val_accuracy: 0.8297\n",
            "Epoch 32/200\n",
            "183/183 [==============================] - 5s 30ms/step - loss: 0.4338 - accuracy: 0.8327 - val_loss: 0.4858 - val_accuracy: 0.8233\n",
            "Epoch 33/200\n",
            "183/183 [==============================] - 5s 30ms/step - loss: 0.4314 - accuracy: 0.8345 - val_loss: 0.4751 - val_accuracy: 0.8228\n",
            "Epoch 34/200\n",
            "183/183 [==============================] - 5s 30ms/step - loss: 0.4212 - accuracy: 0.8383 - val_loss: 0.4636 - val_accuracy: 0.8327\n",
            "Epoch 35/200\n",
            "183/183 [==============================] - 6s 30ms/step - loss: 0.4157 - accuracy: 0.8392 - val_loss: 0.4649 - val_accuracy: 0.8312\n",
            "Epoch 36/200\n",
            "183/183 [==============================] - 6s 30ms/step - loss: 0.4004 - accuracy: 0.8466 - val_loss: 0.4659 - val_accuracy: 0.8367\n",
            "Epoch 37/200\n",
            "183/183 [==============================] - 6s 30ms/step - loss: 0.4022 - accuracy: 0.8465 - val_loss: 0.4721 - val_accuracy: 0.8280\n",
            "Epoch 38/200\n",
            "183/183 [==============================] - 6s 31ms/step - loss: 0.3929 - accuracy: 0.8491 - val_loss: 0.4919 - val_accuracy: 0.8282\n",
            "Epoch 39/200\n",
            "183/183 [==============================] - 6s 30ms/step - loss: 0.3855 - accuracy: 0.8539 - val_loss: 0.4857 - val_accuracy: 0.8321\n",
            "Epoch 40/200\n",
            "183/183 [==============================] - 5s 30ms/step - loss: 0.3842 - accuracy: 0.8537 - val_loss: 0.4619 - val_accuracy: 0.8407\n",
            "Epoch 41/200\n",
            "183/183 [==============================] - 6s 30ms/step - loss: 0.3819 - accuracy: 0.8556 - val_loss: 0.4683 - val_accuracy: 0.8340\n",
            "Epoch 42/200\n",
            "183/183 [==============================] - 6s 31ms/step - loss: 0.3688 - accuracy: 0.8595 - val_loss: 0.4422 - val_accuracy: 0.8392\n",
            "Epoch 43/200\n",
            "183/183 [==============================] - 6s 30ms/step - loss: 0.3697 - accuracy: 0.8595 - val_loss: 0.4616 - val_accuracy: 0.8373\n",
            "Epoch 44/200\n",
            "183/183 [==============================] - 6s 32ms/step - loss: 0.3659 - accuracy: 0.8618 - val_loss: 0.4354 - val_accuracy: 0.8455\n",
            "Epoch 45/200\n",
            "183/183 [==============================] - 5s 30ms/step - loss: 0.3477 - accuracy: 0.8678 - val_loss: 0.4411 - val_accuracy: 0.8464\n",
            "Epoch 46/200\n",
            "183/183 [==============================] - 6s 31ms/step - loss: 0.3547 - accuracy: 0.8659 - val_loss: 0.4600 - val_accuracy: 0.8449\n",
            "Epoch 47/200\n",
            "183/183 [==============================] - 6s 31ms/step - loss: 0.3488 - accuracy: 0.8677 - val_loss: 0.4565 - val_accuracy: 0.8438\n",
            "Epoch 48/200\n",
            "183/183 [==============================] - 6s 32ms/step - loss: 0.3438 - accuracy: 0.8703 - val_loss: 0.4364 - val_accuracy: 0.8532\n",
            "Epoch 49/200\n",
            "183/183 [==============================] - 6s 30ms/step - loss: 0.3397 - accuracy: 0.8721 - val_loss: 0.4570 - val_accuracy: 0.8468\n",
            "Epoch 50/200\n",
            "183/183 [==============================] - 5s 30ms/step - loss: 0.3430 - accuracy: 0.8716 - val_loss: 0.4334 - val_accuracy: 0.8490\n",
            "Epoch 51/200\n",
            "183/183 [==============================] - 5s 30ms/step - loss: 0.3365 - accuracy: 0.8743 - val_loss: 0.4405 - val_accuracy: 0.8513\n",
            "Epoch 52/200\n",
            "183/183 [==============================] - 5s 30ms/step - loss: 0.3299 - accuracy: 0.8765 - val_loss: 0.4453 - val_accuracy: 0.8493\n",
            "Epoch 53/200\n",
            "183/183 [==============================] - 6s 31ms/step - loss: 0.3210 - accuracy: 0.8797 - val_loss: 0.4245 - val_accuracy: 0.8604\n",
            "Epoch 54/200\n",
            "183/183 [==============================] - 6s 32ms/step - loss: 0.3353 - accuracy: 0.8766 - val_loss: 0.4291 - val_accuracy: 0.8497\n",
            "Epoch 55/200\n",
            "183/183 [==============================] - 6s 31ms/step - loss: 0.3143 - accuracy: 0.8811 - val_loss: 0.4442 - val_accuracy: 0.8540\n",
            "Epoch 56/200\n",
            "183/183 [==============================] - 6s 30ms/step - loss: 0.3151 - accuracy: 0.8818 - val_loss: 0.4500 - val_accuracy: 0.8505\n",
            "Epoch 57/200\n",
            "183/183 [==============================] - 6s 31ms/step - loss: 0.3130 - accuracy: 0.8840 - val_loss: 0.4253 - val_accuracy: 0.8595\n",
            "Epoch 58/200\n",
            "183/183 [==============================] - 6s 31ms/step - loss: 0.3158 - accuracy: 0.8821 - val_loss: 0.4367 - val_accuracy: 0.8580\n",
            "Epoch 59/200\n",
            "183/183 [==============================] - 6s 31ms/step - loss: 0.3012 - accuracy: 0.8879 - val_loss: 0.4184 - val_accuracy: 0.8673\n",
            "Epoch 60/200\n",
            "183/183 [==============================] - 6s 30ms/step - loss: 0.2995 - accuracy: 0.8891 - val_loss: 0.4354 - val_accuracy: 0.8576\n",
            "Epoch 61/200\n",
            "183/183 [==============================] - 6s 30ms/step - loss: 0.2969 - accuracy: 0.8899 - val_loss: 0.4202 - val_accuracy: 0.8676\n",
            "Epoch 62/200\n",
            "183/183 [==============================] - 6s 30ms/step - loss: 0.2982 - accuracy: 0.8902 - val_loss: 0.4272 - val_accuracy: 0.8625\n",
            "Epoch 63/200\n",
            "183/183 [==============================] - 6s 30ms/step - loss: 0.2970 - accuracy: 0.8904 - val_loss: 0.4245 - val_accuracy: 0.8629\n",
            "Epoch 64/200\n",
            "183/183 [==============================] - 6s 30ms/step - loss: 0.2900 - accuracy: 0.8941 - val_loss: 0.4037 - val_accuracy: 0.8675\n",
            "Epoch 65/200\n",
            "183/183 [==============================] - 6s 30ms/step - loss: 0.2891 - accuracy: 0.8921 - val_loss: 0.4162 - val_accuracy: 0.8649\n",
            "Epoch 66/200\n",
            "183/183 [==============================] - 6s 30ms/step - loss: 0.2892 - accuracy: 0.8944 - val_loss: 0.4342 - val_accuracy: 0.8619\n",
            "Epoch 67/200\n",
            "183/183 [==============================] - 6s 31ms/step - loss: 0.2834 - accuracy: 0.8969 - val_loss: 0.4258 - val_accuracy: 0.8694\n",
            "Epoch 68/200\n",
            "183/183 [==============================] - 6s 31ms/step - loss: 0.2842 - accuracy: 0.8959 - val_loss: 0.4349 - val_accuracy: 0.8630\n",
            "Epoch 69/200\n",
            "183/183 [==============================] - 6s 32ms/step - loss: 0.2826 - accuracy: 0.8975 - val_loss: 0.4217 - val_accuracy: 0.8674\n",
            "Epoch 70/200\n",
            "183/183 [==============================] - 6s 32ms/step - loss: 0.2749 - accuracy: 0.8996 - val_loss: 0.4146 - val_accuracy: 0.8706\n",
            "Epoch 71/200\n",
            "183/183 [==============================] - 5s 30ms/step - loss: 0.2755 - accuracy: 0.8999 - val_loss: 0.4144 - val_accuracy: 0.8762\n",
            "Epoch 72/200\n",
            "183/183 [==============================] - 6s 30ms/step - loss: 0.2694 - accuracy: 0.9020 - val_loss: 0.4383 - val_accuracy: 0.8661\n",
            "Epoch 73/200\n",
            "183/183 [==============================] - 6s 32ms/step - loss: 0.2730 - accuracy: 0.8987 - val_loss: 0.4106 - val_accuracy: 0.8679\n",
            "Epoch 74/200\n",
            "183/183 [==============================] - 6s 32ms/step - loss: 0.2689 - accuracy: 0.9014 - val_loss: 0.4478 - val_accuracy: 0.8709\n",
            "Epoch 75/200\n",
            "183/183 [==============================] - 6s 31ms/step - loss: 0.2637 - accuracy: 0.9039 - val_loss: 0.4263 - val_accuracy: 0.8748\n",
            "Epoch 76/200\n",
            "183/183 [==============================] - 6s 32ms/step - loss: 0.2552 - accuracy: 0.9065 - val_loss: 0.3977 - val_accuracy: 0.8775\n",
            "Epoch 77/200\n",
            "183/183 [==============================] - 6s 32ms/step - loss: 0.2500 - accuracy: 0.9100 - val_loss: 0.4336 - val_accuracy: 0.8667\n",
            "Epoch 78/200\n",
            "183/183 [==============================] - 6s 32ms/step - loss: 0.2615 - accuracy: 0.9053 - val_loss: 0.4230 - val_accuracy: 0.8741\n",
            "Epoch 79/200\n",
            "183/183 [==============================] - 6s 32ms/step - loss: 0.2516 - accuracy: 0.9112 - val_loss: 0.4098 - val_accuracy: 0.8789\n",
            "Epoch 80/200\n",
            "183/183 [==============================] - 6s 31ms/step - loss: 0.2507 - accuracy: 0.9104 - val_loss: 0.4069 - val_accuracy: 0.8790\n",
            "Epoch 81/200\n",
            "183/183 [==============================] - 6s 32ms/step - loss: 0.2573 - accuracy: 0.9091 - val_loss: 0.3911 - val_accuracy: 0.8818\n",
            "Epoch 82/200\n",
            "183/183 [==============================] - 6s 30ms/step - loss: 0.2474 - accuracy: 0.9094 - val_loss: 0.4158 - val_accuracy: 0.8764\n",
            "Epoch 83/200\n",
            "183/183 [==============================] - 5s 30ms/step - loss: 0.2430 - accuracy: 0.9120 - val_loss: 0.4112 - val_accuracy: 0.8787\n",
            "Epoch 84/200\n",
            "183/183 [==============================] - 5s 30ms/step - loss: 0.2439 - accuracy: 0.9125 - val_loss: 0.4108 - val_accuracy: 0.8823\n",
            "Epoch 85/200\n",
            "183/183 [==============================] - 5s 30ms/step - loss: 0.2461 - accuracy: 0.9121 - val_loss: 0.4340 - val_accuracy: 0.8728\n",
            "Epoch 86/200\n",
            "183/183 [==============================] - 5s 30ms/step - loss: 0.2439 - accuracy: 0.9128 - val_loss: 0.4214 - val_accuracy: 0.8703\n",
            "Epoch 87/200\n",
            "183/183 [==============================] - 6s 30ms/step - loss: 0.2443 - accuracy: 0.9130 - val_loss: 0.3913 - val_accuracy: 0.8834\n",
            "Epoch 88/200\n",
            "183/183 [==============================] - 6s 31ms/step - loss: 0.2320 - accuracy: 0.9169 - val_loss: 0.3926 - val_accuracy: 0.8803\n",
            "Epoch 89/200\n",
            "183/183 [==============================] - 6s 31ms/step - loss: 0.2421 - accuracy: 0.9142 - val_loss: 0.3919 - val_accuracy: 0.8832\n",
            "Epoch 90/200\n",
            "183/183 [==============================] - 6s 31ms/step - loss: 0.2419 - accuracy: 0.9127 - val_loss: 0.3887 - val_accuracy: 0.8835\n",
            "Epoch 91/200\n",
            "183/183 [==============================] - 5s 30ms/step - loss: 0.2350 - accuracy: 0.9157 - val_loss: 0.4152 - val_accuracy: 0.8790\n",
            "Epoch 92/200\n",
            "183/183 [==============================] - 6s 31ms/step - loss: 0.2334 - accuracy: 0.9169 - val_loss: 0.4234 - val_accuracy: 0.8764\n",
            "Epoch 93/200\n",
            "183/183 [==============================] - 5s 30ms/step - loss: 0.2204 - accuracy: 0.9216 - val_loss: 0.3911 - val_accuracy: 0.8861\n",
            "Epoch 94/200\n",
            "183/183 [==============================] - 5s 30ms/step - loss: 0.2301 - accuracy: 0.9180 - val_loss: 0.4034 - val_accuracy: 0.8818\n",
            "Epoch 95/200\n",
            "183/183 [==============================] - 6s 30ms/step - loss: 0.2244 - accuracy: 0.9209 - val_loss: 0.3904 - val_accuracy: 0.8929\n",
            "Epoch 96/200\n",
            "183/183 [==============================] - 6s 31ms/step - loss: 0.2230 - accuracy: 0.9216 - val_loss: 0.3908 - val_accuracy: 0.8910\n",
            "Epoch 97/200\n",
            "183/183 [==============================] - 5s 30ms/step - loss: 0.2274 - accuracy: 0.9201 - val_loss: 0.3925 - val_accuracy: 0.8837\n",
            "Epoch 98/200\n",
            "183/183 [==============================] - 5s 30ms/step - loss: 0.2211 - accuracy: 0.9223 - val_loss: 0.3887 - val_accuracy: 0.8916\n",
            "Epoch 99/200\n",
            "183/183 [==============================] - 5s 30ms/step - loss: 0.2105 - accuracy: 0.9254 - val_loss: 0.3919 - val_accuracy: 0.8893\n",
            "Epoch 100/200\n",
            "183/183 [==============================] - 5s 30ms/step - loss: 0.2146 - accuracy: 0.9246 - val_loss: 0.4237 - val_accuracy: 0.8846\n",
            "Epoch 101/200\n",
            "183/183 [==============================] - 5s 30ms/step - loss: 0.2098 - accuracy: 0.9264 - val_loss: 0.4072 - val_accuracy: 0.8849\n",
            "Epoch 102/200\n",
            "183/183 [==============================] - 5s 30ms/step - loss: 0.2116 - accuracy: 0.9254 - val_loss: 0.4128 - val_accuracy: 0.8852\n",
            "Epoch 103/200\n",
            "183/183 [==============================] - 5s 30ms/step - loss: 0.2112 - accuracy: 0.9262 - val_loss: 0.4047 - val_accuracy: 0.8870\n",
            "Epoch 104/200\n",
            "183/183 [==============================] - 5s 30ms/step - loss: 0.2146 - accuracy: 0.9258 - val_loss: 0.3930 - val_accuracy: 0.8916\n",
            "Epoch 105/200\n",
            "183/183 [==============================] - 6s 30ms/step - loss: 0.2096 - accuracy: 0.9283 - val_loss: 0.4111 - val_accuracy: 0.8848\n",
            "Epoch 106/200\n",
            "183/183 [==============================] - 5s 30ms/step - loss: 0.2041 - accuracy: 0.9308 - val_loss: 0.3966 - val_accuracy: 0.8876\n",
            "Epoch 107/200\n",
            "183/183 [==============================] - 6s 31ms/step - loss: 0.2116 - accuracy: 0.9258 - val_loss: 0.4205 - val_accuracy: 0.8855\n",
            "Epoch 108/200\n",
            "183/183 [==============================] - 6s 30ms/step - loss: 0.2127 - accuracy: 0.9260 - val_loss: 0.4055 - val_accuracy: 0.8896\n",
            "Epoch 109/200\n",
            "183/183 [==============================] - 5s 30ms/step - loss: 0.2034 - accuracy: 0.9282 - val_loss: 0.4145 - val_accuracy: 0.8914\n",
            "Epoch 110/200\n",
            "183/183 [==============================] - 5s 30ms/step - loss: 0.1995 - accuracy: 0.9301 - val_loss: 0.4168 - val_accuracy: 0.8876\n",
            "Epoch 111/200\n",
            "183/183 [==============================] - 6s 31ms/step - loss: 0.2096 - accuracy: 0.9285 - val_loss: 0.4176 - val_accuracy: 0.8874\n",
            "Epoch 112/200\n",
            "183/183 [==============================] - 6s 32ms/step - loss: 0.1998 - accuracy: 0.9302 - val_loss: 0.3956 - val_accuracy: 0.8871\n",
            "Epoch 113/200\n",
            "183/183 [==============================] - 6s 30ms/step - loss: 0.1989 - accuracy: 0.9305 - val_loss: 0.3985 - val_accuracy: 0.8954\n",
            "Epoch 114/200\n",
            "183/183 [==============================] - 5s 30ms/step - loss: 0.1996 - accuracy: 0.9315 - val_loss: 0.3954 - val_accuracy: 0.8940\n",
            "Epoch 115/200\n",
            "183/183 [==============================] - 5s 30ms/step - loss: 0.1905 - accuracy: 0.9343 - val_loss: 0.3884 - val_accuracy: 0.8933\n",
            "Epoch 116/200\n",
            "183/183 [==============================] - 6s 30ms/step - loss: 0.1977 - accuracy: 0.9309 - val_loss: 0.4101 - val_accuracy: 0.8916\n",
            "Epoch 117/200\n",
            "183/183 [==============================] - 6s 31ms/step - loss: 0.1906 - accuracy: 0.9349 - val_loss: 0.3863 - val_accuracy: 0.8963\n",
            "Epoch 118/200\n",
            "183/183 [==============================] - 6s 31ms/step - loss: 0.1975 - accuracy: 0.9322 - val_loss: 0.3891 - val_accuracy: 0.8952\n",
            "Epoch 119/200\n",
            "183/183 [==============================] - 6s 32ms/step - loss: 0.1907 - accuracy: 0.9341 - val_loss: 0.4157 - val_accuracy: 0.8883\n",
            "Epoch 120/200\n",
            "183/183 [==============================] - 6s 31ms/step - loss: 0.1876 - accuracy: 0.9356 - val_loss: 0.3943 - val_accuracy: 0.8983\n",
            "Epoch 121/200\n",
            "183/183 [==============================] - 6s 30ms/step - loss: 0.1959 - accuracy: 0.9332 - val_loss: 0.3971 - val_accuracy: 0.8896\n",
            "Epoch 122/200\n",
            "183/183 [==============================] - 6s 31ms/step - loss: 0.1884 - accuracy: 0.9339 - val_loss: 0.4335 - val_accuracy: 0.8860\n",
            "Epoch 123/200\n",
            "183/183 [==============================] - 5s 30ms/step - loss: 0.1991 - accuracy: 0.9309 - val_loss: 0.3947 - val_accuracy: 0.8972\n",
            "Epoch 124/200\n",
            "183/183 [==============================] - 6s 31ms/step - loss: 0.1864 - accuracy: 0.9357 - val_loss: 0.3895 - val_accuracy: 0.8977\n",
            "Epoch 125/200\n",
            "183/183 [==============================] - 6s 30ms/step - loss: 0.1717 - accuracy: 0.9404 - val_loss: 0.4141 - val_accuracy: 0.8928\n",
            "Epoch 126/200\n",
            "183/183 [==============================] - 6s 30ms/step - loss: 0.1893 - accuracy: 0.9360 - val_loss: 0.3840 - val_accuracy: 0.8995\n",
            "Epoch 127/200\n",
            "183/183 [==============================] - 5s 30ms/step - loss: 0.1949 - accuracy: 0.9337 - val_loss: 0.4088 - val_accuracy: 0.8944\n",
            "Epoch 128/200\n",
            "183/183 [==============================] - 5s 30ms/step - loss: 0.1858 - accuracy: 0.9368 - val_loss: 0.4147 - val_accuracy: 0.8930\n",
            "Epoch 129/200\n",
            "183/183 [==============================] - 6s 30ms/step - loss: 0.1726 - accuracy: 0.9408 - val_loss: 0.4188 - val_accuracy: 0.8918\n",
            "Epoch 130/200\n",
            "183/183 [==============================] - 6s 30ms/step - loss: 0.1730 - accuracy: 0.9414 - val_loss: 0.3859 - val_accuracy: 0.8965\n",
            "Epoch 131/200\n",
            "183/183 [==============================] - 6s 31ms/step - loss: 0.1834 - accuracy: 0.9366 - val_loss: 0.3997 - val_accuracy: 0.8947\n",
            "Epoch 132/200\n",
            "183/183 [==============================] - 5s 30ms/step - loss: 0.1810 - accuracy: 0.9378 - val_loss: 0.3875 - val_accuracy: 0.8969\n",
            "Epoch 133/200\n",
            "183/183 [==============================] - 5s 30ms/step - loss: 0.1704 - accuracy: 0.9421 - val_loss: 0.3948 - val_accuracy: 0.9005\n",
            "Epoch 134/200\n",
            "183/183 [==============================] - 6s 31ms/step - loss: 0.1805 - accuracy: 0.9381 - val_loss: 0.3803 - val_accuracy: 0.9008\n",
            "Epoch 135/200\n",
            "183/183 [==============================] - 5s 30ms/step - loss: 0.1762 - accuracy: 0.9405 - val_loss: 0.3985 - val_accuracy: 0.8975\n",
            "Epoch 136/200\n",
            "183/183 [==============================] - 6s 30ms/step - loss: 0.1656 - accuracy: 0.9446 - val_loss: 0.4087 - val_accuracy: 0.8975\n",
            "Epoch 137/200\n",
            "183/183 [==============================] - 6s 31ms/step - loss: 0.1735 - accuracy: 0.9403 - val_loss: 0.4341 - val_accuracy: 0.8876\n",
            "Epoch 138/200\n",
            "183/183 [==============================] - 6s 31ms/step - loss: 0.1770 - accuracy: 0.9401 - val_loss: 0.4198 - val_accuracy: 0.8929\n",
            "Epoch 139/200\n",
            "183/183 [==============================] - 6s 31ms/step - loss: 0.1808 - accuracy: 0.9381 - val_loss: 0.4030 - val_accuracy: 0.9004\n",
            "Epoch 140/200\n",
            "183/183 [==============================] - 5s 30ms/step - loss: 0.1650 - accuracy: 0.9439 - val_loss: 0.4256 - val_accuracy: 0.8907\n",
            "Epoch 141/200\n",
            "183/183 [==============================] - 6s 30ms/step - loss: 0.1751 - accuracy: 0.9401 - val_loss: 0.4118 - val_accuracy: 0.8955\n",
            "Epoch 142/200\n",
            "183/183 [==============================] - 5s 30ms/step - loss: 0.1707 - accuracy: 0.9422 - val_loss: 0.3889 - val_accuracy: 0.9017\n",
            "Epoch 143/200\n",
            "183/183 [==============================] - 6s 31ms/step - loss: 0.1631 - accuracy: 0.9452 - val_loss: 0.4016 - val_accuracy: 0.8964\n",
            "Epoch 144/200\n",
            "183/183 [==============================] - 5s 30ms/step - loss: 0.1639 - accuracy: 0.9441 - val_loss: 0.3909 - val_accuracy: 0.9024\n",
            "Epoch 145/200\n",
            "183/183 [==============================] - 6s 30ms/step - loss: 0.1627 - accuracy: 0.9448 - val_loss: 0.3953 - val_accuracy: 0.8993\n",
            "Epoch 146/200\n",
            "183/183 [==============================] - 6s 30ms/step - loss: 0.1649 - accuracy: 0.9436 - val_loss: 0.4016 - val_accuracy: 0.8981\n",
            "Epoch 147/200\n",
            "183/183 [==============================] - 6s 30ms/step - loss: 0.1666 - accuracy: 0.9443 - val_loss: 0.4124 - val_accuracy: 0.8963\n",
            "Epoch 148/200\n",
            "183/183 [==============================] - 6s 30ms/step - loss: 0.1667 - accuracy: 0.9438 - val_loss: 0.3945 - val_accuracy: 0.9024\n",
            "Epoch 149/200\n",
            "183/183 [==============================] - 6s 31ms/step - loss: 0.1739 - accuracy: 0.9416 - val_loss: 0.3889 - val_accuracy: 0.9016\n",
            "Epoch 150/200\n",
            "183/183 [==============================] - 6s 32ms/step - loss: 0.1651 - accuracy: 0.9436 - val_loss: 0.3841 - val_accuracy: 0.9058\n",
            "Epoch 151/200\n",
            "183/183 [==============================] - 6s 32ms/step - loss: 0.1578 - accuracy: 0.9477 - val_loss: 0.3746 - val_accuracy: 0.9066\n",
            "Epoch 152/200\n",
            "183/183 [==============================] - 6s 31ms/step - loss: 0.1605 - accuracy: 0.9454 - val_loss: 0.3988 - val_accuracy: 0.9022\n",
            "Epoch 153/200\n",
            "183/183 [==============================] - 6s 30ms/step - loss: 0.1632 - accuracy: 0.9447 - val_loss: 0.3953 - val_accuracy: 0.9025\n",
            "Epoch 154/200\n",
            "183/183 [==============================] - 6s 32ms/step - loss: 0.1635 - accuracy: 0.9457 - val_loss: 0.4043 - val_accuracy: 0.8981\n",
            "Epoch 155/200\n",
            "183/183 [==============================] - 6s 31ms/step - loss: 0.1609 - accuracy: 0.9454 - val_loss: 0.3834 - val_accuracy: 0.9008\n",
            "Epoch 156/200\n",
            "183/183 [==============================] - 6s 32ms/step - loss: 0.1587 - accuracy: 0.9463 - val_loss: 0.4065 - val_accuracy: 0.8958\n",
            "Epoch 157/200\n",
            "183/183 [==============================] - 6s 32ms/step - loss: 0.1588 - accuracy: 0.9469 - val_loss: 0.3838 - val_accuracy: 0.9043\n",
            "Epoch 158/200\n",
            "183/183 [==============================] - 6s 31ms/step - loss: 0.1595 - accuracy: 0.9466 - val_loss: 0.3957 - val_accuracy: 0.9046\n",
            "Epoch 159/200\n",
            "183/183 [==============================] - 6s 32ms/step - loss: 0.1591 - accuracy: 0.9468 - val_loss: 0.4048 - val_accuracy: 0.8992\n",
            "Epoch 160/200\n",
            "183/183 [==============================] - 6s 30ms/step - loss: 0.1616 - accuracy: 0.9452 - val_loss: 0.3929 - val_accuracy: 0.8990\n",
            "Epoch 161/200\n",
            "183/183 [==============================] - 6s 32ms/step - loss: 0.1486 - accuracy: 0.9504 - val_loss: 0.4137 - val_accuracy: 0.8996\n",
            "Epoch 162/200\n",
            "183/183 [==============================] - 6s 31ms/step - loss: 0.1469 - accuracy: 0.9506 - val_loss: 0.4072 - val_accuracy: 0.8988\n",
            "Epoch 163/200\n",
            "183/183 [==============================] - 6s 31ms/step - loss: 0.1563 - accuracy: 0.9486 - val_loss: 0.4039 - val_accuracy: 0.9019\n",
            "Epoch 164/200\n",
            "183/183 [==============================] - 6s 30ms/step - loss: 0.1503 - accuracy: 0.9492 - val_loss: 0.4080 - val_accuracy: 0.9058\n",
            "Epoch 165/200\n",
            "183/183 [==============================] - 6s 30ms/step - loss: 0.1525 - accuracy: 0.9496 - val_loss: 0.4359 - val_accuracy: 0.8947\n",
            "Epoch 166/200\n",
            "183/183 [==============================] - 6s 31ms/step - loss: 0.1447 - accuracy: 0.9518 - val_loss: 0.4110 - val_accuracy: 0.9015\n",
            "Epoch 167/200\n",
            "183/183 [==============================] - 6s 30ms/step - loss: 0.1570 - accuracy: 0.9480 - val_loss: 0.3911 - val_accuracy: 0.9055\n",
            "Epoch 168/200\n",
            "183/183 [==============================] - 6s 30ms/step - loss: 0.1447 - accuracy: 0.9521 - val_loss: 0.4149 - val_accuracy: 0.9051\n",
            "Epoch 169/200\n",
            "183/183 [==============================] - 5s 30ms/step - loss: 0.1508 - accuracy: 0.9497 - val_loss: 0.4153 - val_accuracy: 0.9024\n",
            "Epoch 170/200\n",
            "183/183 [==============================] - 6s 30ms/step - loss: 0.1540 - accuracy: 0.9482 - val_loss: 0.4031 - val_accuracy: 0.8987\n",
            "Epoch 171/200\n",
            "183/183 [==============================] - 6s 30ms/step - loss: 0.1570 - accuracy: 0.9474 - val_loss: 0.4073 - val_accuracy: 0.9014\n",
            "Epoch 172/200\n",
            "183/183 [==============================] - 6s 30ms/step - loss: 0.1472 - accuracy: 0.9512 - val_loss: 0.4358 - val_accuracy: 0.8966\n",
            "Epoch 173/200\n",
            "183/183 [==============================] - 6s 30ms/step - loss: 0.1518 - accuracy: 0.9505 - val_loss: 0.3820 - val_accuracy: 0.9056\n",
            "Epoch 174/200\n",
            "183/183 [==============================] - 6s 32ms/step - loss: 0.1429 - accuracy: 0.9526 - val_loss: 0.4238 - val_accuracy: 0.9012\n",
            "Epoch 175/200\n",
            "183/183 [==============================] - 6s 30ms/step - loss: 0.1485 - accuracy: 0.9496 - val_loss: 0.3763 - val_accuracy: 0.9078\n",
            "Epoch 176/200\n",
            "183/183 [==============================] - 6s 32ms/step - loss: 0.1447 - accuracy: 0.9531 - val_loss: 0.3933 - val_accuracy: 0.9054\n",
            "Epoch 177/200\n",
            "183/183 [==============================] - 5s 30ms/step - loss: 0.1410 - accuracy: 0.9544 - val_loss: 0.4120 - val_accuracy: 0.9011\n",
            "Epoch 178/200\n",
            "183/183 [==============================] - 6s 31ms/step - loss: 0.1418 - accuracy: 0.9536 - val_loss: 0.3757 - val_accuracy: 0.9080\n",
            "Epoch 179/200\n",
            "183/183 [==============================] - 6s 30ms/step - loss: 0.1391 - accuracy: 0.9535 - val_loss: 0.4067 - val_accuracy: 0.9057\n",
            "Epoch 180/200\n",
            "183/183 [==============================] - 6s 32ms/step - loss: 0.1420 - accuracy: 0.9533 - val_loss: 0.4211 - val_accuracy: 0.9019\n",
            "Epoch 181/200\n",
            "183/183 [==============================] - 6s 31ms/step - loss: 0.1430 - accuracy: 0.9520 - val_loss: 0.4153 - val_accuracy: 0.9011\n",
            "Epoch 182/200\n",
            "183/183 [==============================] - 6s 31ms/step - loss: 0.1410 - accuracy: 0.9539 - val_loss: 0.3826 - val_accuracy: 0.9089\n",
            "Epoch 183/200\n",
            "183/183 [==============================] - 6s 30ms/step - loss: 0.1435 - accuracy: 0.9528 - val_loss: 0.4190 - val_accuracy: 0.8973\n",
            "Epoch 184/200\n",
            "183/183 [==============================] - 6s 31ms/step - loss: 0.1484 - accuracy: 0.9512 - val_loss: 0.3891 - val_accuracy: 0.9062\n",
            "Epoch 185/200\n",
            "183/183 [==============================] - 6s 30ms/step - loss: 0.1462 - accuracy: 0.9511 - val_loss: 0.3908 - val_accuracy: 0.9086\n",
            "Epoch 186/200\n",
            "183/183 [==============================] - 6s 32ms/step - loss: 0.1358 - accuracy: 0.9559 - val_loss: 0.3922 - val_accuracy: 0.9071\n",
            "Epoch 187/200\n",
            "183/183 [==============================] - 6s 30ms/step - loss: 0.1419 - accuracy: 0.9522 - val_loss: 0.3901 - val_accuracy: 0.9080\n",
            "Epoch 188/200\n",
            "183/183 [==============================] - 6s 31ms/step - loss: 0.1353 - accuracy: 0.9561 - val_loss: 0.4185 - val_accuracy: 0.9024\n",
            "Epoch 189/200\n",
            "183/183 [==============================] - 6s 30ms/step - loss: 0.1405 - accuracy: 0.9530 - val_loss: 0.4071 - val_accuracy: 0.9084\n",
            "Epoch 190/200\n",
            "183/183 [==============================] - 6s 32ms/step - loss: 0.1445 - accuracy: 0.9537 - val_loss: 0.4384 - val_accuracy: 0.8966\n",
            "Epoch 191/200\n",
            "183/183 [==============================] - 6s 30ms/step - loss: 0.1337 - accuracy: 0.9565 - val_loss: 0.4025 - val_accuracy: 0.9062\n",
            "Epoch 192/200\n",
            "183/183 [==============================] - 6s 31ms/step - loss: 0.1325 - accuracy: 0.9567 - val_loss: 0.4019 - val_accuracy: 0.9081\n",
            "Epoch 193/200\n",
            "183/183 [==============================] - 6s 30ms/step - loss: 0.1399 - accuracy: 0.9541 - val_loss: 0.4194 - val_accuracy: 0.8992\n",
            "Epoch 194/200\n",
            "183/183 [==============================] - 6s 30ms/step - loss: 0.1324 - accuracy: 0.9572 - val_loss: 0.4096 - val_accuracy: 0.9057\n",
            "Epoch 195/200\n",
            "183/183 [==============================] - 6s 31ms/step - loss: 0.1280 - accuracy: 0.9579 - val_loss: 0.3789 - val_accuracy: 0.9118\n",
            "Epoch 196/200\n",
            "183/183 [==============================] - 6s 32ms/step - loss: 0.1340 - accuracy: 0.9561 - val_loss: 0.4124 - val_accuracy: 0.9062\n",
            "Epoch 197/200\n",
            "183/183 [==============================] - 6s 31ms/step - loss: 0.1303 - accuracy: 0.9576 - val_loss: 0.4024 - val_accuracy: 0.9082\n",
            "Epoch 198/200\n",
            "183/183 [==============================] - 6s 31ms/step - loss: 0.1374 - accuracy: 0.9539 - val_loss: 0.3950 - val_accuracy: 0.9066\n",
            "Epoch 199/200\n",
            "183/183 [==============================] - 6s 30ms/step - loss: 0.1310 - accuracy: 0.9566 - val_loss: 0.4109 - val_accuracy: 0.9078\n",
            "Epoch 200/200\n",
            "183/183 [==============================] - 6s 32ms/step - loss: 0.1293 - accuracy: 0.9576 - val_loss: 0.4132 - val_accuracy: 0.9058\n"
          ]
        }
      ]
    },
    {
      "cell_type": "code",
      "metadata": {
        "id": "JY7d6VDZCjaO",
        "colab": {
          "base_uri": "https://localhost:8080/"
        },
        "outputId": "ccca5410-137d-448f-c351-b31dac8bb565"
      },
      "source": [
        "score = model.evaluate(x_test, y_test, verbose=1)\n",
        "print('Test loss:', score[0])\n",
        "print('Test accuracy:', score[1])"
      ],
      "execution_count": null,
      "outputs": [
        {
          "output_type": "stream",
          "name": "stdout",
          "text": [
            "366/366 [==============================] - 2s 5ms/step - loss: 0.4132 - accuracy: 0.9058\n",
            "Test loss: 0.41323205828666687\n",
            "Test accuracy: 0.9058231115341187\n"
          ]
        }
      ]
    },
    {
      "cell_type": "code",
      "metadata": {
        "id": "LV_xGFKhDt67",
        "colab": {
          "base_uri": "https://localhost:8080/"
        },
        "outputId": "be214256-251d-4428-bee8-6217645c2fe4"
      },
      "source": [
        "# list all data in history\n",
        "print(history.history.keys())\n",
        "import matplotlib.pyplot as plt\n",
        "import numpy\n"
      ],
      "execution_count": null,
      "outputs": [
        {
          "output_type": "stream",
          "name": "stdout",
          "text": [
            "dict_keys(['loss', 'accuracy', 'val_loss', 'val_accuracy'])\n"
          ]
        }
      ]
    },
    {
      "cell_type": "code",
      "metadata": {
        "id": "dDQGSy8xFoob",
        "colab": {
          "base_uri": "https://localhost:8080/",
          "height": 295
        },
        "outputId": "dd727042-17c3-41cf-9e8f-d8977f2384cb"
      },
      "source": [
        "# summarize history for accuracy\n",
        "plt.plot(history.history['accuracy'])\n",
        "plt.plot(history.history['val_accuracy'])\n",
        "plt.title('model accuracy')\n",
        "plt.ylabel('accuracy')\n",
        "plt.xlabel('epoch')\n",
        "plt.legend(['train', 'test'], loc='upper left')\n",
        "plt.show()"
      ],
      "execution_count": null,
      "outputs": [
        {
          "output_type": "display_data",
          "data": {
            "text/plain": [
              "<Figure size 432x288 with 1 Axes>"
            ],
            "image/png": "[encoded data removed]"
          },
          "metadata": {
            "needs_background": "light"
          }
        }
      ]
    },
    {
      "cell_type": "code",
      "metadata": {
        "id": "Fgg6gD0BFnZS",
        "colab": {
          "base_uri": "https://localhost:8080/",
          "height": 295
        },
        "outputId": "8aaabdaf-7db8-4b59-cf8d-8822bef3660e"
      },
      "source": [
        "# summarize history for loss\n",
        "plt.plot(history.history['loss'])\n",
        "plt.plot(history.history['val_loss'])\n",
        "plt.title('model loss')\n",
        "plt.ylabel('loss')\n",
        "plt.xlabel('epoch')\n",
        "plt.legend(['train', 'test'], loc='upper left')\n",
        "plt.show()"
      ],
      "execution_count": null,
      "outputs": [
        {
          "output_type": "display_data",
          "data": {
            "text/plain": [
              "<Figure size 432x288 with 1 Axes>"
            ],
            "image/png": "[encoded data removed]"
          },
          "metadata": {
            "needs_background": "light"
          }
        }
      ]
    },
    {
      "cell_type": "code",
      "metadata": {
        "id": "xZwaY3SeKnJb",
        "colab": {
          "base_uri": "https://localhost:8080/",
          "height": 295
        },
        "outputId": "f1fe8e20-c0c1-4e60-f66a-74464360b5c6"
      },
      "source": [
        "plt.plot(history.history['val_accuracy'])\n",
        "plt.plot(history.history['val_loss'])\n",
        "plt.title('test model')\n",
        "plt.ylabel('test accuracy')\n",
        "plt.xlabel('test loss')\n",
        "plt.show()"
      ],
      "execution_count": null,
      "outputs": [
        {
          "output_type": "display_data",
          "data": {
            "text/plain": [
              "<Figure size 432x288 with 1 Axes>"
            ],
            "image/png": "[encoded data removed]"
          },
          "metadata": {
            "needs_background": "light"
          }
        }
      ]
    },
    {
      "cell_type": "code",
      "metadata": {
        "id": "NGR4wrOdL5DF"
      },
      "source": [
        "y_pred=model.predict(x_test)\n",
        "from sklearn.metrics import confusion_matrix\n",
        "import numpy as np"
      ],
      "execution_count": null,
      "outputs": []
    },
    {
      "cell_type": "code",
      "metadata": {
        "id": "9y5wCoinVRhi",
        "colab": {
          "base_uri": "https://localhost:8080/"
        },
        "outputId": "2bb476ee-c3f1-4886-b0fc-bf1aa2132608"
      },
      "source": [
        "y_test[1]"
      ],
      "execution_count": null,
      "outputs": [
        {
          "output_type": "execute_result",
          "data": {
            "text/plain": [
              "array([0., 0., 0., 0., 0., 0., 0., 1., 0., 0.], dtype=float32)"
            ]
          },
          "metadata": {},
          "execution_count": 36
        }
      ]
    },
    {
      "cell_type": "code",
      "metadata": {
        "id": "2q13VADTXlQ9",
        "colab": {
          "base_uri": "https://localhost:8080/"
        },
        "outputId": "03bd25e3-c211-4073-f2d8-347f721462d3"
      },
      "source": [
        "y_pred[1]"
      ],
      "execution_count": null,
      "outputs": [
        {
          "output_type": "execute_result",
          "data": {
            "text/plain": [
              "array([0.0000000e+00, 2.6304622e-07, 0.0000000e+00, 2.7689800e-10,\n",
              "       6.0896885e-11, 1.4118716e-06, 3.6095716e-06, 9.9999428e-01,\n",
              "       8.4671825e-08, 4.2324689e-07], dtype=float32)"
            ]
          },
          "metadata": {},
          "execution_count": 37
        }
      ]
    },
    {
      "cell_type": "code",
      "metadata": {
        "id": "ilOzv9RdVOtg"
      },
      "source": [
        "y_test1=np.argmax(y_test, axis=1)"
      ],
      "execution_count": null,
      "outputs": []
    },
    {
      "cell_type": "code",
      "metadata": {
        "id": "Pvkh6dE6XzNa"
      },
      "source": [
        "y_pred=np.argmax(y_pred,axis=1)"
      ],
      "execution_count": null,
      "outputs": []
    },
    {
      "cell_type": "code",
      "metadata": {
        "id": "wLOOyigNaJke",
        "colab": {
          "base_uri": "https://localhost:8080/"
        },
        "outputId": "67c29cde-a24e-43aa-9fac-75aebb7de2bc"
      },
      "source": [
        "y_test1[1]"
      ],
      "execution_count": null,
      "outputs": [
        {
          "output_type": "execute_result",
          "data": {
            "text/plain": [
              "7"
            ]
          },
          "metadata": {},
          "execution_count": 40
        }
      ]
    },
    {
      "cell_type": "code",
      "metadata": {
        "id": "0f968lExaSRS",
        "colab": {
          "base_uri": "https://localhost:8080/"
        },
        "outputId": "34366541-9a3f-4d7b-cfe3-76da95b04b1d"
      },
      "source": [
        "y_pred[1]"
      ],
      "execution_count": null,
      "outputs": [
        {
          "output_type": "execute_result",
          "data": {
            "text/plain": [
              "7"
            ]
          },
          "metadata": {},
          "execution_count": 41
        }
      ]
    },
    {
      "cell_type": "code",
      "metadata": {
        "id": "45fHlde5OtWn"
      },
      "source": [
        "cmatrix=confusion_matrix(y_test1, y_pred)"
      ],
      "execution_count": null,
      "outputs": []
    },
    {
      "cell_type": "code",
      "metadata": {
        "id": "7p70V5JCRyvZ",
        "colab": {
          "base_uri": "https://localhost:8080/",
          "height": 599
        },
        "outputId": "5f944d9d-c5e5-4a17-d225-3cc1d87e2366"
      },
      "source": [
        "import seaborn as sns\n",
        "figure = plt.figure(figsize=(8, 8))\n",
        "sns.heatmap(cmatrix, annot=True,cmap=plt.cm.Blues)\n",
        "plt.tight_layout()\n",
        "plt.ylabel('True label')\n",
        "plt.xlabel('Predicted label')\n",
        "plt.show()"
      ],
      "execution_count": null,
      "outputs": [
        {
          "output_type": "display_data",
          "data": {
            "text/plain": [
              "<Figure size 576x576 with 2 Axes>"
            ],
            "image/png": "[encoded data removed]"
          },
          "metadata": {
            "needs_background": "light"
          }
        }
      ]
    },
    {
      "cell_type": "code",
      "source": [
        "from sklearn import metrics\n",
        "y_pred = np.around(model.predict(x_test))\n",
        "print(metrics.classification_report(y_test,y_pred))"
      ],
      "metadata": {
        "id": "yyhYlGRvny4k",
        "outputId": "66b496a7-a9f9-49fc-a2b3-6b8dd547de4a",
        "colab": {
          "base_uri": "https://localhost:8080/"
        }
      },
      "execution_count": null,
      "outputs": [
        {
          "output_type": "stream",
          "name": "stdout",
          "text": [
            "              precision    recall  f1-score   support\n",
            "\n",
            "           0       0.00      0.00      0.00         0\n",
            "           1       0.84      0.86      0.85      1172\n",
            "           2       0.00      0.00      0.00         0\n",
            "           3       0.93      0.93      0.93       391\n",
            "           4       0.94      0.88      0.91       391\n",
            "           5       0.96      0.91      0.93      2046\n",
            "           6       0.93      0.91      0.92      2733\n",
            "           7       0.90      0.92      0.91      2734\n",
            "           8       0.96      0.92      0.94      1172\n",
            "           9       0.84      0.81      0.82      1073\n",
            "\n",
            "   micro avg       0.91      0.90      0.91     11712\n",
            "   macro avg       0.73      0.71      0.72     11712\n",
            "weighted avg       0.92      0.90      0.91     11712\n",
            " samples avg       0.90      0.90      0.90     11712\n",
            "\n"
          ]
        }
      ]
    },
    {
      "cell_type": "markdown",
      "source": [
        ""
      ],
      "metadata": {
        "id": "lEquYJoNnysK"
      }
    }
  ]
}